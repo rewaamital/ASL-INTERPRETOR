{
  "cells": [
    {
      "cell_type": "markdown",
      "source": [
        "# Simple Custom Model"
      ],
      "metadata": {
        "id": "IljIOHY4ToIO"
      }
    },
    {
      "cell_type": "markdown",
      "metadata": {
        "id": "3leMbngSrU7w"
      },
      "source": [
        "### Importing the Libraries"
      ]
    },
    {
      "cell_type": "code",
      "execution_count": 1,
      "metadata": {
        "id": "NhUBO93TrU77"
      },
      "outputs": [],
      "source": [
        "import tensorflow as tf\n",
        "from keras.preprocessing.image import ImageDataGenerator\n"
      ]
    },
    {
      "cell_type": "code",
      "execution_count": 2,
      "metadata": {
        "colab": {
          "base_uri": "https://localhost:8080/",
          "height": 36
        },
        "id": "FSiixvLcrU78",
        "outputId": "329ff1cf-d131-4d1f-d847-6c70a8dec86b"
      },
      "outputs": [
        {
          "output_type": "execute_result",
          "data": {
            "text/plain": [
              "'2.13.0'"
            ],
            "application/vnd.google.colaboratory.intrinsic+json": {
              "type": "string"
            }
          },
          "metadata": {},
          "execution_count": 2
        }
      ],
      "source": [
        "tf.__version__"
      ]
    },
    {
      "cell_type": "markdown",
      "metadata": {
        "id": "fUddjROGrU79"
      },
      "source": [
        "### Part 1 - Data Preprocessing"
      ]
    },
    {
      "cell_type": "markdown",
      "metadata": {
        "id": "AdxlWZCwrU79"
      },
      "source": [
        "#### Generating images for the Training set"
      ]
    },
    {
      "cell_type": "markdown",
      "source": [
        "Mounting Drive"
      ],
      "metadata": {
        "id": "8HxFvTSFrZGR"
      }
    },
    {
      "cell_type": "code",
      "source": [
        "from google.colab import drive\n",
        "drive.mount('/content/drive')"
      ],
      "metadata": {
        "colab": {
          "base_uri": "https://localhost:8080/"
        },
        "id": "xl6vwdDDra8s",
        "outputId": "8ef9fc93-300e-43e2-93f6-532c3f2d7d11"
      },
      "execution_count": 3,
      "outputs": [
        {
          "output_type": "stream",
          "name": "stdout",
          "text": [
            "Mounted at /content/drive\n"
          ]
        }
      ]
    },
    {
      "cell_type": "code",
      "source": [
        "!unzip /content/drive/MyDrive/Btech/dataSet.zip"
      ],
      "metadata": {
        "id": "hNSfOhZAu2AA"
      },
      "execution_count": null,
      "outputs": []
    },
    {
      "cell_type": "code",
      "execution_count": 5,
      "metadata": {
        "id": "hsZjsOS1rU79"
      },
      "outputs": [],
      "source": [
        "train_datagen = ImageDataGenerator(rescale = 1./255,\n",
        "                                   shear_range = 0.2,\n",
        "                                   zoom_range = 0.2,\n",
        "                                   horizontal_flip = True)"
      ]
    },
    {
      "cell_type": "markdown",
      "metadata": {
        "id": "ehRVUjS0rU7-"
      },
      "source": [
        "#### Generating images for the Test set"
      ]
    },
    {
      "cell_type": "code",
      "execution_count": 6,
      "metadata": {
        "id": "iuADZZGDrU7-"
      },
      "outputs": [],
      "source": [
        "test_datagen = ImageDataGenerator(rescale = 1./255)"
      ]
    },
    {
      "cell_type": "markdown",
      "metadata": {
        "id": "tfDjRTJCrU7-"
      },
      "source": [
        "### Creating the Training set"
      ]
    },
    {
      "cell_type": "code",
      "execution_count": 7,
      "metadata": {
        "colab": {
          "base_uri": "https://localhost:8080/"
        },
        "id": "iuoKvUqWrU7_",
        "outputId": "209e5a04-b250-4a67-96b5-a5bbccae30c1"
      },
      "outputs": [
        {
          "output_type": "stream",
          "name": "stdout",
          "text": [
            "Found 12845 images belonging to 27 classes.\n"
          ]
        }
      ],
      "source": [
        "training_set = train_datagen.flow_from_directory('/content/dataSet/trainingData',\n",
        "                                                 target_size = (128, 128),\n",
        "                                                 batch_size = 10,\n",
        "                                                 color_mode = 'grayscale',\n",
        "                                                 class_mode = 'categorical')"
      ]
    },
    {
      "cell_type": "code",
      "execution_count": 8,
      "metadata": {
        "colab": {
          "base_uri": "https://localhost:8080/"
        },
        "id": "N43ZOteurU7_",
        "outputId": "5f16ad78-95bd-492d-b120-cedef057f99d"
      },
      "outputs": [
        {
          "output_type": "stream",
          "name": "stdout",
          "text": [
            "Found 4268 images belonging to 27 classes.\n"
          ]
        }
      ],
      "source": [
        "test_set = test_datagen.flow_from_directory('/content/dataSet/testingData',\n",
        "                                            target_size = (128, 128),\n",
        "                                            batch_size = 10,\n",
        "                                            color_mode = 'grayscale',\n",
        "                                            class_mode = 'categorical')"
      ]
    },
    {
      "cell_type": "markdown",
      "metadata": {
        "id": "VKJDodQgrU8A"
      },
      "source": [
        "### Part 2 - Building the CNN"
      ]
    },
    {
      "cell_type": "markdown",
      "metadata": {
        "id": "7n7JxoFGrU8A"
      },
      "source": [
        "#### Initializing the CNN"
      ]
    },
    {
      "cell_type": "code",
      "execution_count": 9,
      "metadata": {
        "id": "ZHhY2F-YrU8A"
      },
      "outputs": [],
      "source": [
        "classifier = tf.keras.models.Sequential()"
      ]
    },
    {
      "cell_type": "markdown",
      "metadata": {
        "id": "zsbTfl_arU8B"
      },
      "source": [
        "#### Step 1 - Convolution"
      ]
    },
    {
      "cell_type": "code",
      "execution_count": 10,
      "metadata": {
        "id": "og55cmqgrU8B"
      },
      "outputs": [],
      "source": [
        "classifier.add(tf.keras.layers.Conv2D(filters=32,\n",
        "                                     kernel_size=3,\n",
        "                                     padding=\"same\",\n",
        "                                     activation=\"relu\",\n",
        "                                     input_shape=[128, 128, 1]))"
      ]
    },
    {
      "cell_type": "markdown",
      "metadata": {
        "id": "gkAETf1arU8B"
      },
      "source": [
        "#### Step 2 - Pooling"
      ]
    },
    {
      "cell_type": "code",
      "execution_count": 11,
      "metadata": {
        "id": "tT2yRKFfrU8B"
      },
      "outputs": [],
      "source": [
        "classifier.add(tf.keras.layers.MaxPool2D(pool_size=2,\n",
        "                                         strides=2,\n",
        "                                         padding='valid'))"
      ]
    },
    {
      "cell_type": "markdown",
      "metadata": {
        "id": "0tEGwYFfrU8C"
      },
      "source": [
        "#### Adding a second convolutional layer"
      ]
    },
    {
      "cell_type": "code",
      "execution_count": 12,
      "metadata": {
        "id": "x1jDfn-3rU8C"
      },
      "outputs": [],
      "source": [
        "classifier.add(tf.keras.layers.Conv2D(filters=32,\n",
        "                                      kernel_size=3,\n",
        "                                      padding=\"same\",\n",
        "                                      activation=\"relu\"))\n",
        "\n",
        "classifier.add(tf.keras.layers.MaxPool2D(pool_size=2,\n",
        "                                         strides=2,\n",
        "                                         padding='valid'))"
      ]
    },
    {
      "cell_type": "markdown",
      "metadata": {
        "id": "phyXzqp-rU8C"
      },
      "source": [
        "#### Step 3 - Flattening"
      ]
    },
    {
      "cell_type": "code",
      "execution_count": 13,
      "metadata": {
        "id": "yHGdeK47rU8C"
      },
      "outputs": [],
      "source": [
        "classifier.add(tf.keras.layers.Flatten())"
      ]
    },
    {
      "cell_type": "markdown",
      "metadata": {
        "id": "PZap3aE6rU8D"
      },
      "source": [
        "#### Step 4 - Full Connection"
      ]
    },
    {
      "cell_type": "code",
      "execution_count": 14,
      "metadata": {
        "id": "qJVXickNrU8D"
      },
      "outputs": [],
      "source": [
        "classifier.add(tf.keras.layers.Dense(units=128,\n",
        "                                     activation='relu'))\n",
        "classifier.add(tf.keras.layers.Dropout(0.40))\n",
        "classifier.add(tf.keras.layers.Dense(units=96, activation='relu'))\n",
        "classifier.add(tf.keras.layers.Dropout(0.40))\n",
        "classifier.add(tf.keras.layers.Dense(units=64, activation='relu'))\n",
        "classifier.add(tf.keras.layers.Dense(units=27, activation='softmax')) # softmax for more than 2"
      ]
    },
    {
      "cell_type": "markdown",
      "metadata": {
        "id": "7tJpjXU7rU8D"
      },
      "source": [
        "### Part 3 - Training the CNN"
      ]
    },
    {
      "cell_type": "markdown",
      "metadata": {
        "id": "gEMwfoC5rU8D"
      },
      "source": [
        "#### Compiling the CNN"
      ]
    },
    {
      "cell_type": "code",
      "execution_count": 15,
      "metadata": {
        "id": "vK3GeqZArU8D"
      },
      "outputs": [],
      "source": [
        "classifier.compile(optimizer = 'adam',\n",
        "                   loss = 'categorical_crossentropy',\n",
        "                   metrics = ['accuracy'])"
      ]
    },
    {
      "cell_type": "markdown",
      "metadata": {
        "id": "qH1WU9sxrU8E"
      },
      "source": [
        "#### Training the CNN on the Training set and evaluating it on the Test set"
      ]
    },
    {
      "cell_type": "code",
      "execution_count": 16,
      "metadata": {
        "colab": {
          "base_uri": "https://localhost:8080/"
        },
        "id": "uO_PNimsrU8E",
        "outputId": "97c8e7ab-2217-4cc7-f7df-98aa4d509bd0"
      },
      "outputs": [
        {
          "output_type": "stream",
          "name": "stdout",
          "text": [
            "Model: \"sequential\"\n",
            "_________________________________________________________________\n",
            " Layer (type)                Output Shape              Param #   \n",
            "=================================================================\n",
            " conv2d (Conv2D)             (None, 128, 128, 32)      320       \n",
            "                                                                 \n",
            " max_pooling2d (MaxPooling2  (None, 64, 64, 32)        0         \n",
            " D)                                                              \n",
            "                                                                 \n",
            " conv2d_1 (Conv2D)           (None, 64, 64, 32)        9248      \n",
            "                                                                 \n",
            " max_pooling2d_1 (MaxPoolin  (None, 32, 32, 32)        0         \n",
            " g2D)                                                            \n",
            "                                                                 \n",
            " flatten (Flatten)           (None, 32768)             0         \n",
            "                                                                 \n",
            " dense (Dense)               (None, 128)               4194432   \n",
            "                                                                 \n",
            " dropout (Dropout)           (None, 128)               0         \n",
            "                                                                 \n",
            " dense_1 (Dense)             (None, 96)                12384     \n",
            "                                                                 \n",
            " dropout_1 (Dropout)         (None, 96)                0         \n",
            "                                                                 \n",
            " dense_2 (Dense)             (None, 64)                6208      \n",
            "                                                                 \n",
            " dense_3 (Dense)             (None, 27)                1755      \n",
            "                                                                 \n",
            "=================================================================\n",
            "Total params: 4224347 (16.11 MB)\n",
            "Trainable params: 4224347 (16.11 MB)\n",
            "Non-trainable params: 0 (0.00 Byte)\n",
            "_________________________________________________________________\n"
          ]
        }
      ],
      "source": [
        "classifier.summary()"
      ]
    },
    {
      "cell_type": "code",
      "execution_count": 19,
      "metadata": {
        "id": "ZDCBkBE0rU8E"
      },
      "outputs": [],
      "source": [
        "model_checkpoint_callback = tf.keras.callbacks.ModelCheckpoint(\n",
        "    filepath=\"model.h5\",\n",
        "    save_weights_only=True,\n",
        "    monitor='val_accuracy',\n",
        "    mode='max',\n",
        "    save_best_only=True,\n",
        "    verbose=1)"
      ]
    },
    {
      "cell_type": "code",
      "execution_count": 20,
      "metadata": {
        "colab": {
          "base_uri": "https://localhost:8080/"
        },
        "id": "-STs4WTFrU8F",
        "outputId": "9b57f40a-e084-4b9e-add1-d860c472eaed"
      },
      "outputs": [
        {
          "output_type": "stream",
          "name": "stdout",
          "text": [
            "Epoch 1/30\n",
            "1284/1285 [============================>.] - ETA: 0s - loss: 0.3139 - accuracy: 0.8968\n",
            "Epoch 1: val_accuracy improved from -inf to 0.98899, saving model to model.h5\n",
            "1285/1285 [==============================] - 42s 32ms/step - loss: 0.3137 - accuracy: 0.8969 - val_loss: 0.0351 - val_accuracy: 0.9890\n",
            "Epoch 2/30\n",
            "1284/1285 [============================>.] - ETA: 0s - loss: 0.2797 - accuracy: 0.9088\n",
            "Epoch 2: val_accuracy improved from 0.98899 to 0.99367, saving model to model.h5\n",
            "1285/1285 [==============================] - 41s 32ms/step - loss: 0.2798 - accuracy: 0.9087 - val_loss: 0.0194 - val_accuracy: 0.9937\n",
            "Epoch 3/30\n",
            "1283/1285 [============================>.] - ETA: 0s - loss: 0.2391 - accuracy: 0.9251\n",
            "Epoch 3: val_accuracy improved from 0.99367 to 0.99485, saving model to model.h5\n",
            "1285/1285 [==============================] - 40s 31ms/step - loss: 0.2390 - accuracy: 0.9251 - val_loss: 0.0192 - val_accuracy: 0.9948\n",
            "Epoch 4/30\n",
            "1284/1285 [============================>.] - ETA: 0s - loss: 0.2222 - accuracy: 0.9282\n",
            "Epoch 4: val_accuracy did not improve from 0.99485\n",
            "1285/1285 [==============================] - 46s 36ms/step - loss: 0.2220 - accuracy: 0.9283 - val_loss: 0.0274 - val_accuracy: 0.9932\n",
            "Epoch 5/30\n",
            "1284/1285 [============================>.] - ETA: 0s - loss: 0.2120 - accuracy: 0.9335\n",
            "Epoch 5: val_accuracy did not improve from 0.99485\n",
            "1285/1285 [==============================] - 40s 31ms/step - loss: 0.2121 - accuracy: 0.9334 - val_loss: 0.0238 - val_accuracy: 0.9944\n",
            "Epoch 6/30\n",
            "1285/1285 [==============================] - ETA: 0s - loss: 0.2035 - accuracy: 0.9373\n",
            "Epoch 6: val_accuracy improved from 0.99485 to 0.99813, saving model to model.h5\n",
            "1285/1285 [==============================] - 42s 32ms/step - loss: 0.2035 - accuracy: 0.9373 - val_loss: 0.0079 - val_accuracy: 0.9981\n",
            "Epoch 7/30\n",
            "1284/1285 [============================>.] - ETA: 0s - loss: 0.1857 - accuracy: 0.9418\n",
            "Epoch 7: val_accuracy did not improve from 0.99813\n",
            "1285/1285 [==============================] - 45s 35ms/step - loss: 0.1857 - accuracy: 0.9418 - val_loss: 0.0102 - val_accuracy: 0.9979\n",
            "Epoch 8/30\n",
            "1283/1285 [============================>.] - ETA: 0s - loss: 0.1785 - accuracy: 0.9450\n",
            "Epoch 8: val_accuracy did not improve from 0.99813\n",
            "1285/1285 [==============================] - 40s 31ms/step - loss: 0.1784 - accuracy: 0.9450 - val_loss: 0.0050 - val_accuracy: 0.9981\n",
            "Epoch 9/30\n",
            "1285/1285 [==============================] - ETA: 0s - loss: 0.1636 - accuracy: 0.9483\n",
            "Epoch 9: val_accuracy improved from 0.99813 to 0.99930, saving model to model.h5\n",
            "1285/1285 [==============================] - 39s 31ms/step - loss: 0.1636 - accuracy: 0.9483 - val_loss: 0.0028 - val_accuracy: 0.9993\n",
            "Epoch 10/30\n",
            "1283/1285 [============================>.] - ETA: 0s - loss: 0.1532 - accuracy: 0.9497\n",
            "Epoch 10: val_accuracy did not improve from 0.99930\n",
            "1285/1285 [==============================] - 39s 30ms/step - loss: 0.1534 - accuracy: 0.9496 - val_loss: 0.0051 - val_accuracy: 0.9981\n",
            "Epoch 11/30\n",
            "1284/1285 [============================>.] - ETA: 0s - loss: 0.1477 - accuracy: 0.9535\n",
            "Epoch 11: val_accuracy did not improve from 0.99930\n",
            "1285/1285 [==============================] - 41s 32ms/step - loss: 0.1476 - accuracy: 0.9535 - val_loss: 0.0103 - val_accuracy: 0.9979\n",
            "Epoch 12/30\n",
            "1285/1285 [==============================] - ETA: 0s - loss: 0.1360 - accuracy: 0.9580\n",
            "Epoch 12: val_accuracy did not improve from 0.99930\n",
            "1285/1285 [==============================] - 42s 33ms/step - loss: 0.1360 - accuracy: 0.9580 - val_loss: 0.0034 - val_accuracy: 0.9991\n",
            "Epoch 13/30\n",
            "1285/1285 [==============================] - ETA: 0s - loss: 0.1466 - accuracy: 0.9543\n",
            "Epoch 13: val_accuracy did not improve from 0.99930\n",
            "1285/1285 [==============================] - 40s 31ms/step - loss: 0.1466 - accuracy: 0.9543 - val_loss: 0.0027 - val_accuracy: 0.9993\n",
            "Epoch 14/30\n",
            "1283/1285 [============================>.] - ETA: 0s - loss: 0.1263 - accuracy: 0.9609\n",
            "Epoch 14: val_accuracy did not improve from 0.99930\n",
            "1285/1285 [==============================] - 40s 31ms/step - loss: 0.1264 - accuracy: 0.9608 - val_loss: 0.0049 - val_accuracy: 0.9986\n",
            "Epoch 15/30\n",
            "1284/1285 [============================>.] - ETA: 0s - loss: 0.1245 - accuracy: 0.9604\n",
            "Epoch 15: val_accuracy improved from 0.99930 to 0.99953, saving model to model.h5\n",
            "1285/1285 [==============================] - 45s 35ms/step - loss: 0.1249 - accuracy: 0.9604 - val_loss: 0.0024 - val_accuracy: 0.9995\n",
            "Epoch 16/30\n",
            "1285/1285 [==============================] - ETA: 0s - loss: 0.1233 - accuracy: 0.9649\n",
            "Epoch 16: val_accuracy did not improve from 0.99953\n",
            "1285/1285 [==============================] - 40s 31ms/step - loss: 0.1233 - accuracy: 0.9649 - val_loss: 0.0059 - val_accuracy: 0.9986\n",
            "Epoch 17/30\n",
            "1285/1285 [==============================] - ETA: 0s - loss: 0.1179 - accuracy: 0.9627\n",
            "Epoch 17: val_accuracy improved from 0.99953 to 1.00000, saving model to model.h5\n",
            "1285/1285 [==============================] - 42s 33ms/step - loss: 0.1179 - accuracy: 0.9627 - val_loss: 0.0011 - val_accuracy: 1.0000\n",
            "Epoch 18/30\n",
            "1284/1285 [============================>.] - ETA: 0s - loss: 0.1216 - accuracy: 0.9631\n",
            "Epoch 18: val_accuracy did not improve from 1.00000\n",
            "1285/1285 [==============================] - 40s 31ms/step - loss: 0.1215 - accuracy: 0.9632 - val_loss: 0.0048 - val_accuracy: 0.9984\n",
            "Epoch 19/30\n",
            "1283/1285 [============================>.] - ETA: 0s - loss: 0.1109 - accuracy: 0.9660\n",
            "Epoch 19: val_accuracy did not improve from 1.00000\n",
            "1285/1285 [==============================] - 39s 30ms/step - loss: 0.1109 - accuracy: 0.9660 - val_loss: 0.0032 - val_accuracy: 0.9991\n",
            "Epoch 20/30\n",
            "1285/1285 [==============================] - ETA: 0s - loss: 0.1104 - accuracy: 0.9676\n",
            "Epoch 20: val_accuracy did not improve from 1.00000\n",
            "1285/1285 [==============================] - 40s 31ms/step - loss: 0.1104 - accuracy: 0.9676 - val_loss: 0.0032 - val_accuracy: 0.9995\n",
            "Epoch 21/30\n",
            "1284/1285 [============================>.] - ETA: 0s - loss: 0.0983 - accuracy: 0.9686\n",
            "Epoch 21: val_accuracy did not improve from 1.00000\n",
            "1285/1285 [==============================] - 41s 32ms/step - loss: 0.0983 - accuracy: 0.9686 - val_loss: 0.0053 - val_accuracy: 0.9988\n",
            "Epoch 22/30\n",
            "1284/1285 [============================>.] - ETA: 0s - loss: 0.1050 - accuracy: 0.9691\n",
            "Epoch 22: val_accuracy did not improve from 1.00000\n",
            "1285/1285 [==============================] - 43s 33ms/step - loss: 0.1049 - accuracy: 0.9692 - val_loss: 0.0026 - val_accuracy: 0.9998\n",
            "Epoch 23/30\n",
            "1284/1285 [============================>.] - ETA: 0s - loss: 0.0936 - accuracy: 0.9721\n",
            "Epoch 23: val_accuracy did not improve from 1.00000\n",
            "1285/1285 [==============================] - 43s 33ms/step - loss: 0.0936 - accuracy: 0.9721 - val_loss: 0.0033 - val_accuracy: 0.9995\n",
            "Epoch 24/30\n",
            "1285/1285 [==============================] - ETA: 0s - loss: 0.1085 - accuracy: 0.9678\n",
            "Epoch 24: val_accuracy did not improve from 1.00000\n",
            "1285/1285 [==============================] - 40s 31ms/step - loss: 0.1085 - accuracy: 0.9678 - val_loss: 0.0032 - val_accuracy: 0.9993\n",
            "Epoch 25/30\n",
            "1284/1285 [============================>.] - ETA: 0s - loss: 0.0953 - accuracy: 0.9705\n",
            "Epoch 25: val_accuracy did not improve from 1.00000\n",
            "1285/1285 [==============================] - 40s 31ms/step - loss: 0.0954 - accuracy: 0.9704 - val_loss: 0.0026 - val_accuracy: 0.9998\n",
            "Epoch 26/30\n",
            "1283/1285 [============================>.] - ETA: 0s - loss: 0.0938 - accuracy: 0.9714\n",
            "Epoch 26: val_accuracy did not improve from 1.00000\n",
            "1285/1285 [==============================] - 41s 32ms/step - loss: 0.0937 - accuracy: 0.9714 - val_loss: 0.0050 - val_accuracy: 0.9986\n",
            "Epoch 27/30\n",
            "1285/1285 [==============================] - ETA: 0s - loss: 0.0905 - accuracy: 0.9735\n",
            "Epoch 27: val_accuracy did not improve from 1.00000\n",
            "1285/1285 [==============================] - 41s 32ms/step - loss: 0.0905 - accuracy: 0.9735 - val_loss: 0.0037 - val_accuracy: 0.9991\n",
            "Epoch 28/30\n",
            "1285/1285 [==============================] - ETA: 0s - loss: 0.0953 - accuracy: 0.9732\n",
            "Epoch 28: val_accuracy did not improve from 1.00000\n",
            "1285/1285 [==============================] - 41s 32ms/step - loss: 0.0953 - accuracy: 0.9732 - val_loss: 0.0068 - val_accuracy: 0.9984\n",
            "Epoch 29/30\n",
            "1285/1285 [==============================] - ETA: 0s - loss: 0.0913 - accuracy: 0.9739\n",
            "Epoch 29: val_accuracy did not improve from 1.00000\n",
            "1285/1285 [==============================] - 44s 35ms/step - loss: 0.0913 - accuracy: 0.9739 - val_loss: 0.0038 - val_accuracy: 0.9993\n",
            "Epoch 30/30\n",
            "1284/1285 [============================>.] - ETA: 0s - loss: 0.0764 - accuracy: 0.9772\n",
            "Epoch 30: val_accuracy did not improve from 1.00000\n",
            "1285/1285 [==============================] - 41s 32ms/step - loss: 0.0763 - accuracy: 0.9772 - val_loss: 0.0045 - val_accuracy: 0.9993\n"
          ]
        },
        {
          "output_type": "execute_result",
          "data": {
            "text/plain": [
              "<keras.src.callbacks.History at 0x78d4ac1e7610>"
            ]
          },
          "metadata": {},
          "execution_count": 20
        }
      ],
      "source": [
        "classifier.fit(training_set,\n",
        "                  epochs = 30, batch_size = 32,\n",
        "                  validation_data = test_set,callbacks = [model_checkpoint_callback])"
      ]
    },
    {
      "cell_type": "markdown",
      "metadata": {
        "id": "ILiEPYhVrU8F"
      },
      "source": [
        "#### Saving the Model"
      ]
    },
    {
      "cell_type": "code",
      "execution_count": 21,
      "metadata": {
        "id": "mfglxaH1rU8F",
        "outputId": "50ccccf6-232c-475f-b7bb-e4ae20b19167",
        "colab": {
          "base_uri": "https://localhost:8080/"
        }
      },
      "outputs": [
        {
          "output_type": "stream",
          "name": "stdout",
          "text": [
            "Model Saved\n",
            "Weights saved\n"
          ]
        }
      ],
      "source": [
        "model_json = classifier.to_json()\n",
        "with open(\"model_new.json\", \"w\") as json_file:\n",
        "    json_file.write(model_json)\n",
        "print('Model Saved')\n",
        "classifier.save_weights('model_new.h5')\n",
        "print('Weights saved')"
      ]
    },
    {
      "cell_type": "code",
      "execution_count": null,
      "metadata": {
        "id": "QKkYUxrorU8G"
      },
      "outputs": [],
      "source": []
    }
  ],
  "metadata": {
    "kernelspec": {
      "display_name": "Python 3",
      "name": "python3"
    },
    "language_info": {
      "codemirror_mode": {
        "name": "ipython",
        "version": 3
      },
      "file_extension": ".py",
      "mimetype": "text/x-python",
      "name": "python",
      "nbconvert_exporter": "python",
      "pygments_lexer": "ipython3",
      "version": "3.10.9"
    },
    "colab": {
      "provenance": [],
      "gpuType": "T4"
    },
    "accelerator": "GPU"
  },
  "nbformat": 4,
  "nbformat_minor": 0
}